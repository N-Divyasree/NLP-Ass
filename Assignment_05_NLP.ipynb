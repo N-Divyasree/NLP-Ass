{
  "nbformat": 4,
  "nbformat_minor": 0,
  "metadata": {
    "colab": {
      "provenance": [],
      "include_colab_link": true
    },
    "kernelspec": {
      "name": "python3",
      "display_name": "Python 3"
    },
    "language_info": {
      "name": "python"
    }
  },
  "cells": [
    {
      "cell_type": "markdown",
      "metadata": {
        "id": "view-in-github",
        "colab_type": "text"
      },
      "source": [
        "<a href=\"https://colab.research.google.com/github/N-Divyasree/NLP-Ass/blob/main/Assignment_05_NLP.ipynb\" target=\"_parent\"><img src=\"https://colab.research.google.com/assets/colab-badge.svg\" alt=\"Open In Colab\"/></a>"
      ]
    },
    {
      "cell_type": "code",
      "execution_count": null,
      "metadata": {
        "colab": {
          "base_uri": "https://localhost:8080/"
        },
        "id": "A-KG9LpwBBrm",
        "outputId": "b285baff-9dfb-45f2-e3dc-5f5349fe80a6"
      },
      "outputs": [
        {
          "output_type": "stream",
          "name": "stdout",
          "text": [
            "Collecting hmmlearn\n",
            "  Downloading hmmlearn-0.3.2-cp310-cp310-manylinux_2_17_x86_64.manylinux2014_x86_64.whl.metadata (2.9 kB)\n",
            "Requirement already satisfied: numpy>=1.10 in /usr/local/lib/python3.10/dist-packages (from hmmlearn) (1.26.4)\n",
            "Requirement already satisfied: scikit-learn!=0.22.0,>=0.16 in /usr/local/lib/python3.10/dist-packages (from hmmlearn) (1.3.2)\n",
            "Requirement already satisfied: scipy>=0.19 in /usr/local/lib/python3.10/dist-packages (from hmmlearn) (1.13.1)\n",
            "Requirement already satisfied: joblib>=1.1.1 in /usr/local/lib/python3.10/dist-packages (from scikit-learn!=0.22.0,>=0.16->hmmlearn) (1.4.2)\n",
            "Requirement already satisfied: threadpoolctl>=2.0.0 in /usr/local/lib/python3.10/dist-packages (from scikit-learn!=0.22.0,>=0.16->hmmlearn) (3.5.0)\n",
            "Downloading hmmlearn-0.3.2-cp310-cp310-manylinux_2_17_x86_64.manylinux2014_x86_64.whl (161 kB)\n",
            "\u001b[2K   \u001b[90m━━━━━━━━━━━━━━━━━━━━━━━━━━━━━━━━━━━━━━━━\u001b[0m \u001b[32m161.1/161.1 kB\u001b[0m \u001b[31m1.4 MB/s\u001b[0m eta \u001b[36m0:00:00\u001b[0m\n",
            "\u001b[?25hInstalling collected packages: hmmlearn\n",
            "Successfully installed hmmlearn-0.3.2\n"
          ]
        }
      ],
      "source": [
        "!pip install hmmlearn\n",
        "import numpy as np"
      ]
    },
    {
      "cell_type": "code",
      "source": [
        "from hmmlearn import hmm\n",
        "states = [\"Sunny\", \"Rainy\"]\n",
        "n_states = len(states)\n",
        "observations = [\"Dry\", \"Damp\", \"Wet\"]\n",
        "n_observations = len(observations)\n"
      ],
      "metadata": {
        "id": "fTch0rqOBI5p"
      },
      "execution_count": null,
      "outputs": []
    },
    {
      "cell_type": "code",
      "source": [
        "transition_prob = np.array([\n",
        "    [0.7, 0.3],\n",
        "    [0.4, 0.6]\n",
        "])"
      ],
      "metadata": {
        "id": "h6qpAOUMBPYf"
      },
      "execution_count": null,
      "outputs": []
    },
    {
      "cell_type": "code",
      "source": [
        "emission_prob = np.array([\n",
        "    [0.8, 0.15, 0.05],\n",
        "    [0.1, 0.35, 0.55]\n",
        "])"
      ],
      "metadata": {
        "id": "BribbzShBYKM"
      },
      "execution_count": null,
      "outputs": []
    },
    {
      "cell_type": "code",
      "source": [
        "model = hmm.MultinomialHMM(n_components=n_states)\n",
        "model.startprob_ = start_prob\n",
        "model.transmat_ = transition_prob\n",
        "model.emissionprob_ = emission_prob\n"
      ],
      "metadata": {
        "colab": {
          "base_uri": "https://localhost:8080/"
        },
        "id": "5PNcMllqBf0R",
        "outputId": "2c409ece-c45b-4df8-b34d-4c0b5b64e06b"
      },
      "execution_count": null,
      "outputs": [
        {
          "output_type": "stream",
          "name": "stderr",
          "text": [
            "WARNING:hmmlearn.hmm:MultinomialHMM has undergone major changes. The previous version was implementing a CategoricalHMM (a special case of MultinomialHMM). This new implementation follows the standard definition for a Multinomial distribution (e.g. as in https://en.wikipedia.org/wiki/Multinomial_distribution). See these issues for details:\n",
            "https://github.com/hmmlearn/hmmlearn/issues/335\n",
            "https://github.com/hmmlearn/hmmlearn/issues/340\n"
          ]
        }
      ]
    },
    {
      "cell_type": "code",
      "source": [
        "observation_sequence = np.array([0, 1, 2, 0, 1]).reshape(-1, 1)\n",
        "print(\"Observation sequence:\", [observations[i[0]] for i in observation_sequence])\n",
        "new_observation_sequence = np.array([2, 2, 1, 0]).reshape(-1, 1)\n",
        "print(\"New Observation sequence:\", [observations[i[0]] for i in new_observation_sequence])\n",
        "\n"
      ],
      "metadata": {
        "colab": {
          "base_uri": "https://localhost:8080/"
        },
        "id": "Aqd689oxBxzU",
        "outputId": "4fbad0a6-4724-4da8-a583-887b343fe50a"
      },
      "execution_count": null,
      "outputs": [
        {
          "output_type": "stream",
          "name": "stdout",
          "text": [
            "Observation sequence: ['Dry', 'Damp', 'Wet', 'Dry', 'Damp']\n",
            "New Observation sequence: ['Wet', 'Wet', 'Damp', 'Dry']\n"
          ]
        }
      ]
    }
  ]
}